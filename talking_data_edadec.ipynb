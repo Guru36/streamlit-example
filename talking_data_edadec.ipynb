{
 "cells": [
  {
   "cell_type": "code",
   "execution_count": 1,
   "metadata": {
    "id": "yMFf9t4yRp6l"
   },
   "outputs": [],
   "source": [
    "import pandas as pd\n",
    "import numpy as np\n",
    "import seaborn as sns\n",
    "import matplotlib.pyplot as plt\n",
    "import warnings\n",
    "warnings.filterwarnings(\"ignore\")"
   ]
  },
  {
   "cell_type": "markdown",
   "metadata": {
    "_cell_guid": "29ab3f35-c097-465e-e2a5-4efe1aa836aa",
    "id": "u2zOnS4SRp6x"
   },
   "source": [
    "# Data"
   ]
  },
  {
   "cell_type": "markdown",
   "metadata": {
    "id": "QqAZrqEWRp6x"
   },
   "source": [
    "In the provided Kaggle Dataset we have been provided with 6 different files for training,So we shall load each file and analysis the data individually"
   ]
  },
  {
   "cell_type": "markdown",
   "metadata": {
    "id": "qq6Wc652Rp6y"
   },
   "source": [
    "**1.gender_age_train file**"
   ]
  },
  {
   "cell_type": "code",
   "execution_count": 2,
   "metadata": {
    "colab": {
     "base_uri": "https://localhost:8080/",
     "height": 204
    },
    "id": "D9urpF4TRp6z",
    "outputId": "428361f3-35a9-42b0-a3f7-8df806dcd0c9"
   },
   "outputs": [
    {
     "data": {
      "text/html": [
       "<div>\n",
       "<style scoped>\n",
       "    .dataframe tbody tr th:only-of-type {\n",
       "        vertical-align: middle;\n",
       "    }\n",
       "\n",
       "    .dataframe tbody tr th {\n",
       "        vertical-align: top;\n",
       "    }\n",
       "\n",
       "    .dataframe thead th {\n",
       "        text-align: right;\n",
       "    }\n",
       "</style>\n",
       "<table border=\"1\" class=\"dataframe\">\n",
       "  <thead>\n",
       "    <tr style=\"text-align: right;\">\n",
       "      <th></th>\n",
       "      <th>device_id</th>\n",
       "      <th>gender</th>\n",
       "      <th>age</th>\n",
       "      <th>group</th>\n",
       "    </tr>\n",
       "  </thead>\n",
       "  <tbody>\n",
       "    <tr>\n",
       "      <th>0</th>\n",
       "      <td>-8076087639492063270</td>\n",
       "      <td>M</td>\n",
       "      <td>35</td>\n",
       "      <td>M32-38</td>\n",
       "    </tr>\n",
       "    <tr>\n",
       "      <th>1</th>\n",
       "      <td>-2897161552818060146</td>\n",
       "      <td>M</td>\n",
       "      <td>35</td>\n",
       "      <td>M32-38</td>\n",
       "    </tr>\n",
       "    <tr>\n",
       "      <th>2</th>\n",
       "      <td>-8260683887967679142</td>\n",
       "      <td>M</td>\n",
       "      <td>35</td>\n",
       "      <td>M32-38</td>\n",
       "    </tr>\n",
       "    <tr>\n",
       "      <th>3</th>\n",
       "      <td>-4938849341048082022</td>\n",
       "      <td>M</td>\n",
       "      <td>30</td>\n",
       "      <td>M29-31</td>\n",
       "    </tr>\n",
       "    <tr>\n",
       "      <th>4</th>\n",
       "      <td>245133531816851882</td>\n",
       "      <td>M</td>\n",
       "      <td>30</td>\n",
       "      <td>M29-31</td>\n",
       "    </tr>\n",
       "  </tbody>\n",
       "</table>\n",
       "</div>"
      ],
      "text/plain": [
       "             device_id gender  age   group\n",
       "0 -8076087639492063270      M   35  M32-38\n",
       "1 -2897161552818060146      M   35  M32-38\n",
       "2 -8260683887967679142      M   35  M32-38\n",
       "3 -4938849341048082022      M   30  M29-31\n",
       "4   245133531816851882      M   30  M29-31"
      ]
     },
     "execution_count": 2,
     "metadata": {},
     "output_type": "execute_result"
    }
   ],
   "source": [
    "gender_age_train = pd.read_csv('C:\\\\Users\\\\user\\\\Downloads\\\\talkingdata-mobile-user-demographic\\\\gender_age_train.csv')\n",
    "gender_age_train.head()"
   ]
  },
  {
   "cell_type": "code",
   "execution_count": 3,
   "metadata": {},
   "outputs": [
    {
     "data": {
      "text/plain": [
       "(74645, 4)"
      ]
     },
     "execution_count": 3,
     "metadata": {},
     "output_type": "execute_result"
    }
   ],
   "source": [
    "gender_age_train.shape"
   ]
  },
  {
   "cell_type": "code",
   "execution_count": 4,
   "metadata": {
    "colab": {
     "base_uri": "https://localhost:8080/"
    },
    "id": "KcIbJuXGRp60",
    "outputId": "bf65c0d0-7974-4900-cf52-853777a9a95d"
   },
   "outputs": [
    {
     "data": {
      "text/plain": [
       "device_id    False\n",
       "gender       False\n",
       "age          False\n",
       "group        False\n",
       "dtype: bool"
      ]
     },
     "execution_count": 4,
     "metadata": {},
     "output_type": "execute_result"
    }
   ],
   "source": [
    "#Checking if any of the columns contains Nan Values\n",
    "gender_age_train.isnull().any()"
   ]
  },
  {
   "cell_type": "code",
   "execution_count": 5,
   "metadata": {
    "colab": {
     "base_uri": "https://localhost:8080/",
     "height": 408
    },
    "id": "rF4nqcllRp61",
    "outputId": "13c48417-7dbe-458b-e0ec-6c1c3e01181b"
   },
   "outputs": [
    {
     "name": "stdout",
     "output_type": "stream",
     "text": [
      "Plot reperesenting  how many users does each group contain\n"
     ]
    },
    {
     "data": {
      "image/png": "[encoded data removed]",
      "text/plain": [
       "<Figure size 432x288 with 1 Axes>"
      ]
     },
     "metadata": {
      "needs_background": "light"
     },
     "output_type": "display_data"
    },
    {
     "name": "stdout",
     "output_type": "stream",
     "text": [
      "Total number of Users: 74645\n",
      "Number of groups= 12\n",
      "Number of Male Users: 47904 -->64.2% \n",
      "Number of Female Users: 26741 -->35.8%\n"
     ]
    }
   ],
   "source": [
    "print('Plot reperesenting  how many users does each group contain')\n",
    "plt.title('Group VS No. Users Plot')\n",
    "plt.xlabel('Group')\n",
    "plt.ylabel('Number of Users')\n",
    "gender_age_train['group'].value_counts().plot.bar()\n",
    "plt.show()\n",
    "print('Total number of Users:',len(gender_age_train))\n",
    "print('Number of groups=',len(gender_age_train['group'].unique()) )\n",
    "\n",
    "print('Number of Male Users:',gender_age_train['gender'].value_counts()[0],'-->64.2%','\\nNumber of Female Users:',gender_age_train['gender'].value_counts()[1],'-->35.8%')"
   ]
  },
  {
   "cell_type": "raw",
   "metadata": {
    "id": "LqpC5fsoRp61"
   },
   "source": [
    "Observation:\n",
    "\n",
    "1.This is the only training file which we need to use for training other files are just like database with all other external supportive  info related to the device-IDs.\n",
    "2.This  file contains the device-ID and its corresponding User's Age ,Gender details along the class of age-gender group they belong to.\n",
    "3.It doesn't contain any null Values\n",
    "4.We have 74645 Rows and 4 columns(featues).\n",
    "5.As seen in the graph above the data is imbalanced with respective to gender and different type of groups(classes)"
   ]
  },
  {
   "cell_type": "markdown",
   "metadata": {
    "id": "hsS-TKM_Rp62"
   },
   "source": [
    "**2.phone_brand_device_model file**"
   ]
  },
  {
   "cell_type": "markdown",
   "metadata": {
    "id": "jDNAvEhJRp62"
   },
   "source": [
    "This file is like the database which  contains phone brand and its model name for all the devices(device_ids) mentioned in train and test dataset."
   ]
  },
  {
   "cell_type": "code",
   "execution_count": 6,
   "metadata": {
    "colab": {
     "base_uri": "https://localhost:8080/",
     "height": 204
    },
    "id": "JbZeXwveRp63",
    "outputId": "e6130743-3e13-4f33-b80c-f2227eac291c"
   },
   "outputs": [
    {
     "data": {
      "text/html": [
       "<div>\n",
       "<style scoped>\n",
       "    .dataframe tbody tr th:only-of-type {\n",
       "        vertical-align: middle;\n",
       "    }\n",
       "\n",
       "    .dataframe tbody tr th {\n",
       "        vertical-align: top;\n",
       "    }\n",
       "\n",
       "    .dataframe thead th {\n",
       "        text-align: right;\n",
       "    }\n",
       "</style>\n",
       "<table border=\"1\" class=\"dataframe\">\n",
       "  <thead>\n",
       "    <tr style=\"text-align: right;\">\n",
       "      <th></th>\n",
       "      <th>device_id</th>\n",
       "      <th>phone_brand</th>\n",
       "      <th>device_model</th>\n",
       "    </tr>\n",
       "  </thead>\n",
       "  <tbody>\n",
       "    <tr>\n",
       "      <th>0</th>\n",
       "      <td>-8890648629457979026</td>\n",
       "      <td>小米</td>\n",
       "      <td>红米</td>\n",
       "    </tr>\n",
       "    <tr>\n",
       "      <th>1</th>\n",
       "      <td>1277779817574759137</td>\n",
       "      <td>小米</td>\n",
       "      <td>MI 2</td>\n",
       "    </tr>\n",
       "    <tr>\n",
       "      <th>2</th>\n",
       "      <td>5137427614288105724</td>\n",
       "      <td>三星</td>\n",
       "      <td>Galaxy S4</td>\n",
       "    </tr>\n",
       "    <tr>\n",
       "      <th>3</th>\n",
       "      <td>3669464369358936369</td>\n",
       "      <td>SUGAR</td>\n",
       "      <td>时尚手机</td>\n",
       "    </tr>\n",
       "    <tr>\n",
       "      <th>4</th>\n",
       "      <td>-5019277647504317457</td>\n",
       "      <td>三星</td>\n",
       "      <td>Galaxy Note 2</td>\n",
       "    </tr>\n",
       "  </tbody>\n",
       "</table>\n",
       "</div>"
      ],
      "text/plain": [
       "             device_id phone_brand   device_model\n",
       "0 -8890648629457979026          小米             红米\n",
       "1  1277779817574759137          小米           MI 2\n",
       "2  5137427614288105724          三星      Galaxy S4\n",
       "3  3669464369358936369       SUGAR           时尚手机\n",
       "4 -5019277647504317457          三星  Galaxy Note 2"
      ]
     },
     "execution_count": 6,
     "metadata": {},
     "output_type": "execute_result"
    }
   ],
   "source": [
    "phone_brand_device_model = pd.read_csv('C:\\\\Users\\\\user\\\\Downloads\\\\talkingdata-mobile-user-demographic\\\\phone_brand_device_model.csv')\n",
    "#removing duplicates\n",
    "phone_brand_device_model=phone_brand_device_model.drop_duplicates()\n",
    "phone_brand_device_model.head()"
   ]
  },
  {
   "cell_type": "code",
   "execution_count": 7,
   "metadata": {
    "id": "DeBd6udFRp63"
   },
   "outputs": [],
   "source": [
    "#Phone Brand names are in chinese  so converting them to English \n",
    "#https://www.kaggle.com/iuga77/translate-brand-names-snippet\n",
    "English_phone_brands = {\"三星\": \"samsung\", \"天语\": \"Ktouch\",\"海信\": \"hisense\", \"联想\": \"lenovo\",   \"欧比\": \"obi\",    \"爱派尔\": \"ipair\",  \n",
    "\"努比亚\": \"nubia\",  \"优米\": \"youmi\",\"朵唯\": \"dowe\", \"黑米\": \"heymi\",\"锤子\": \"hammer\",\"酷比魔方\": \"koobee\",\"美图\": \"meitu\",\"尼比鲁\": \"nibilu\",\n",
    "    \"一加\": \"oneplus\",\"优购\": \"yougo\",\"诺基亚\": \"nokia\", \"糖葫芦\": \"candy\",\"中国移动\": \"ccmc\", \"语信\": \"yuxin\",\"基伍\": \"kiwu\",\"青橙\": \"greeno\",\n",
    "    \"华硕\": \"asus\", \"夏新\": \"panosonic\", \"维图\": \"weitu\",\"艾优尼\": \"aiyouni\",\"摩托罗拉\": \"moto\", \"乡米\": \"xiangmi\", \"米奇\": \"micky\",\n",
    "    \"大可乐\": \"bigcola\", \"沃普丰\": \"wpf\", \"神舟\": \"hasse\",  \"摩乐\": \"mole\",\"飞秒\": \"fs\",\"米歌\": \"mige\", \"富可视\": \"fks\", \"德赛\": \"desci\",\n",
    "    \"梦米\": \"mengmi\",\"乐视\": \"lshi\",\"小杨树\": \"smallt\",\"纽曼\": \"newman\", \"邦华\": \"banghua\", \"E派\": \"epai\", \"易派\": \"epai\", \"普耐尔\": \"pner\",\n",
    "    \"欧新\": \"ouxin\",   \"西米\": \"ximi\",  \"海尔\": \"haier\",  \"波导\": \"bodao\", \"糯米\": \"nuomi\", \"唯米\": \"weimi\", \"酷珀\": \"kupo\",  \"谷歌\": \"google\",\n",
    "    \"昂达\": \"ada\" ,    \"聆韵\": \"lingyun\",  \"小米\": \"Xiaomi\", \"华为\": \"Huawei\", \"魅族\": \"Meizu\", \"中兴\": \"ZTE\",   \"酷派\": \"Coolpad\",    \"金立\": \"Gionee\",\n",
    "    \"SUGAR\": \"SUGAR\",   \"OPPO\": \"OPPO\",   \"vivo\": \"vivo\",  \"HTC\": \"HTC\",   \"LG\": \"LG\", \"ZUK\": \"ZUK\",   \"TCL\": \"TCL\", \"LOGO\": \"LOGO\",\"Lovme\": \"Lovme\",\n",
    "    \"PPTV\": \"PPTV\", \"ZOYE\": \"ZOYE\", \"MIL\": \"MIL\",   \"索尼\" : \"Sony\",\"欧博信\" : \"Opssom\",  \"奇酷\" : \"Qiku\",\"酷比\" : \"CUBE\", \"康佳\" : \"Konka\",\n",
    "    \"亿通\" : \"Yitong\",   \"金星数码\" : \"JXD\",\"至尊宝\" : \"Monkey King\", \"百立丰\" : \"Hundred Li Feng\",\"贝尔丰\" : \"Bifer\",\"百加\" : \"Bacardi\", \"诺亚信\" : \"Noain\",\n",
    "    \"广信\" : \"Kingsun\",  \"世纪天元\" : \"Ctyon\", \"青葱\" : \"Cong\", \"果米\" : \"Taobao\",\"斐讯\" : \"Phicomm\", \"长虹\" : \"Changhong\", \"欧奇\" : \"Oukimobile\",\n",
    "      \"先锋\" : \"XFPLAY\",\"台电\" : \"Teclast\",\"大Q\" : \"Daq\",\"蓝魔\" : \"Ramos\", \"奥克斯\" : \"AUX\"\n",
    "}\n",
    "\n",
    "phone_brand_device_model.phone_brand = phone_brand_device_model.phone_brand.map(pd.Series(English_phone_brands), na_action='ignore')\n"
   ]
  },
  {
   "cell_type": "code",
   "execution_count": 8,
   "metadata": {
    "colab": {
     "base_uri": "https://localhost:8080/",
     "height": 204
    },
    "id": "_t9vQPt3Rp65",
    "outputId": "ebe46867-d05b-46db-ac93-372fe73d58f3"
   },
   "outputs": [
    {
     "data": {
      "text/html": [
       "<div>\n",
       "<style scoped>\n",
       "    .dataframe tbody tr th:only-of-type {\n",
       "        vertical-align: middle;\n",
       "    }\n",
       "\n",
       "    .dataframe tbody tr th {\n",
       "        vertical-align: top;\n",
       "    }\n",
       "\n",
       "    .dataframe thead th {\n",
       "        text-align: right;\n",
       "    }\n",
       "</style>\n",
       "<table border=\"1\" class=\"dataframe\">\n",
       "  <thead>\n",
       "    <tr style=\"text-align: right;\">\n",
       "      <th></th>\n",
       "      <th>device_id</th>\n",
       "      <th>gender</th>\n",
       "      <th>age</th>\n",
       "      <th>group</th>\n",
       "      <th>phone_brand</th>\n",
       "      <th>device_model</th>\n",
       "    </tr>\n",
       "  </thead>\n",
       "  <tbody>\n",
       "    <tr>\n",
       "      <th>0</th>\n",
       "      <td>-8076087639492063270</td>\n",
       "      <td>M</td>\n",
       "      <td>35</td>\n",
       "      <td>M32-38</td>\n",
       "      <td>Xiaomi</td>\n",
       "      <td>MI 2</td>\n",
       "    </tr>\n",
       "    <tr>\n",
       "      <th>1</th>\n",
       "      <td>-2897161552818060146</td>\n",
       "      <td>M</td>\n",
       "      <td>35</td>\n",
       "      <td>M32-38</td>\n",
       "      <td>Xiaomi</td>\n",
       "      <td>MI 2</td>\n",
       "    </tr>\n",
       "    <tr>\n",
       "      <th>2</th>\n",
       "      <td>-8260683887967679142</td>\n",
       "      <td>M</td>\n",
       "      <td>35</td>\n",
       "      <td>M32-38</td>\n",
       "      <td>Xiaomi</td>\n",
       "      <td>MI 2</td>\n",
       "    </tr>\n",
       "    <tr>\n",
       "      <th>3</th>\n",
       "      <td>-4938849341048082022</td>\n",
       "      <td>M</td>\n",
       "      <td>30</td>\n",
       "      <td>M29-31</td>\n",
       "      <td>Xiaomi</td>\n",
       "      <td>红米note</td>\n",
       "    </tr>\n",
       "    <tr>\n",
       "      <th>4</th>\n",
       "      <td>245133531816851882</td>\n",
       "      <td>M</td>\n",
       "      <td>30</td>\n",
       "      <td>M29-31</td>\n",
       "      <td>Xiaomi</td>\n",
       "      <td>MI 3</td>\n",
       "    </tr>\n",
       "  </tbody>\n",
       "</table>\n",
       "</div>"
      ],
      "text/plain": [
       "             device_id gender  age   group phone_brand device_model\n",
       "0 -8076087639492063270      M   35  M32-38      Xiaomi         MI 2\n",
       "1 -2897161552818060146      M   35  M32-38      Xiaomi         MI 2\n",
       "2 -8260683887967679142      M   35  M32-38      Xiaomi         MI 2\n",
       "3 -4938849341048082022      M   30  M29-31      Xiaomi       红米note\n",
       "4   245133531816851882      M   30  M29-31      Xiaomi         MI 3"
      ]
     },
     "execution_count": 8,
     "metadata": {},
     "output_type": "execute_result"
    }
   ],
   "source": [
    "gender_age_train.set_index('device_id')\n",
    "phone_brand_device_model.set_index('device_id')\n",
    "gender_mobile_data = pd.merge(left=gender_age_train, right=phone_brand_device_model, left_on='device_id', right_on='device_id')\n",
    "gender_mobile_data.head()"
   ]
  },
  {
   "cell_type": "code",
   "execution_count": 9,
   "metadata": {
    "colab": {
     "base_uri": "https://localhost:8080/"
    },
    "id": "RwdG8oXn_IdR",
    "outputId": "c22e2a48-837d-4d3d-ffea-3a07e050df15"
   },
   "outputs": [
    {
     "name": "stdout",
     "output_type": "stream",
     "text": [
      "97 unique brands of mobile devices are used by the Users\n"
     ]
    }
   ],
   "source": [
    "print(len(gender_mobile_data.phone_brand.unique()), 'unique brands of mobile devices are used by the Users')"
   ]
  },
  {
   "cell_type": "code",
   "execution_count": 10,
   "metadata": {},
   "outputs": [],
   "source": [
    "#Picking up top ten models and top ten phone brands for EDA purpose .\n",
    "Top_Ten_Brands=gender_mobile_data['phone_brand'].value_counts()[0:10]\n",
    "Top_Ten_Brands=Top_Ten_Brands.to_dict()\n",
    "\n",
    "Top_Ten_Phone_Models=gender_mobile_data['device_model'].value_counts()[0:15]\n",
    "Top_Ten_Phone_Models=Top_Ten_Phone_Models.to_dict()"
   ]
  },
  {
   "cell_type": "code",
   "execution_count": 11,
   "metadata": {
    "scrolled": true
   },
   "outputs": [
    {
     "data": {
      "text/plain": [
       "<AxesSubplot:xlabel='phone_brand', ylabel='age'>"
      ]
     },
     "execution_count": 11,
     "metadata": {},
     "output_type": "execute_result"
    },
    {
     "data": {
      "image/png": "[encoded data removed]",
      "text/plain": [
       "<Figure size 720x360 with 1 Axes>"
      ]
     },
     "metadata": {},
     "output_type": "display_data"
    }
   ],
   "source": [
    "#Boxplot between Phone Brands & Age:\n",
    "gender_mobile_data1=gender_mobile_data.loc[gender_mobile_data['phone_brand'].isin(Top_Ten_Brands.keys())]\n",
    "sns.set_style(\"whitegrid\")\n",
    "plt.figure(figsize=(10,5))\n",
    "sns.boxplot(x = 'phone_brand', y = 'age',hue='gender' ,data = gender_mobile_data1)"
   ]
  },
  {
   "cell_type": "raw",
   "metadata": {},
   "source": [
    "Observations:\n",
    "\n",
    "1.Samsung ,Huawei & Lenovo brands are used by old age people \n",
    "\n",
    "2.Vivo & Meozu are mostly used by Young age people"
   ]
  },
  {
   "cell_type": "code",
   "execution_count": 12,
   "metadata": {
    "colab": {
     "base_uri": "https://localhost:8080/",
     "height": 502
    },
    "id": "eV8DK7r0Rp6-",
    "outputId": "80ae7215-0fc1-44e6-ae94-f262c7b0be06"
   },
   "outputs": [
    {
     "data": {
      "image/png": "[encoded data removed]",
      "text/plain": [
       "<Figure size 720x360 with 2 Axes>"
      ]
     },
     "metadata": {},
     "output_type": "display_data"
    }
   ],
   "source": [
    "#Plotting the distribution of Phone Brand and the Phone Models across the % of Users\n",
    "plt.figure(figsize=(10,5))\n",
    "plt.subplot(1, 2,1)\n",
    "(phone_brand_device_model['phone_brand'].value_counts()[0:10]/len(phone_brand_device_model)*100).plot.bar()\n",
    "plt.title('% of Phone Brands used by Users')\n",
    "plt.xlabel('Brands')\n",
    "plt.ylabel('Percentage %')\n",
    "\n",
    "#******************************************#\n",
    "\n",
    "plt.subplot(1, 2,2)\n",
    "(phone_brand_device_model['device_model'].value_counts()[0:10]/len(phone_brand_device_model)*100).plot.bar()\n",
    "plt.title('% of Phone Models used by Users')\n",
    "plt.xlabel('device_model')\n",
    "plt.ylabel('Percentage %')\n",
    "plt.show()"
   ]
  },
  {
   "cell_type": "raw",
   "metadata": {
    "id": "6MoABjhY7OF5"
   },
   "source": [
    "Observations:\n",
    "\n",
    "1.With above graphs, we see the  Top 10 brands have almost 90%  and Top 10 models occupy 25% share of devices used by Talking Data customers.\n",
    "\n",
    "2.We can draw the info like there is much probability that a device belongs to Male user.Like example Samsung Galaxy Note can be mostly used by Male user of age of 30+ .\n",
    "\n",
    "3.But we can't draw the absolute info with the unbalanced data.So its true that we can predict the target variable using the phone_brand and device_model but which is not so enough to predict the target Class.\n",
    "\n",
    "4.Device specifications like Ram,Camera,Storage,Design,Available Colors can be added as external information for more accurate prediction"
   ]
  },
  {
   "cell_type": "markdown",
   "metadata": {
    "id": "PXIAAl54Rp7A"
   },
   "source": [
    "**3.Events Data**"
   ]
  },
  {
   "cell_type": "raw",
   "metadata": {},
   "source": [
    "This file is like the database which  contains events data.We need to map this data with Device IDs in  train and test dataset."
   ]
  },
  {
   "cell_type": "code",
   "execution_count": 13,
   "metadata": {
    "colab": {
     "base_uri": "https://localhost:8080/",
     "height": 204
    },
    "id": "HxwHwO75Rp7A",
    "outputId": "bb260e64-3937-49d4-eb0e-f1d34ec86638"
   },
   "outputs": [
    {
     "data": {
      "text/html": [
       "<div>\n",
       "<style scoped>\n",
       "    .dataframe tbody tr th:only-of-type {\n",
       "        vertical-align: middle;\n",
       "    }\n",
       "\n",
       "    .dataframe tbody tr th {\n",
       "        vertical-align: top;\n",
       "    }\n",
       "\n",
       "    .dataframe thead th {\n",
       "        text-align: right;\n",
       "    }\n",
       "</style>\n",
       "<table border=\"1\" class=\"dataframe\">\n",
       "  <thead>\n",
       "    <tr style=\"text-align: right;\">\n",
       "      <th></th>\n",
       "      <th>event_id</th>\n",
       "      <th>device_id</th>\n",
       "      <th>timestamp</th>\n",
       "      <th>longitude</th>\n",
       "      <th>latitude</th>\n",
       "    </tr>\n",
       "  </thead>\n",
       "  <tbody>\n",
       "    <tr>\n",
       "      <th>0</th>\n",
       "      <td>1</td>\n",
       "      <td>29182687948017175</td>\n",
       "      <td>2016-05-01 00:55:25</td>\n",
       "      <td>121.38</td>\n",
       "      <td>31.24</td>\n",
       "    </tr>\n",
       "    <tr>\n",
       "      <th>1</th>\n",
       "      <td>2</td>\n",
       "      <td>-6401643145415154744</td>\n",
       "      <td>2016-05-01 00:54:12</td>\n",
       "      <td>103.65</td>\n",
       "      <td>30.97</td>\n",
       "    </tr>\n",
       "    <tr>\n",
       "      <th>2</th>\n",
       "      <td>3</td>\n",
       "      <td>-4833982096941402721</td>\n",
       "      <td>2016-05-01 00:08:05</td>\n",
       "      <td>106.60</td>\n",
       "      <td>29.70</td>\n",
       "    </tr>\n",
       "    <tr>\n",
       "      <th>3</th>\n",
       "      <td>4</td>\n",
       "      <td>-6815121365017318426</td>\n",
       "      <td>2016-05-01 00:06:40</td>\n",
       "      <td>104.27</td>\n",
       "      <td>23.28</td>\n",
       "    </tr>\n",
       "    <tr>\n",
       "      <th>4</th>\n",
       "      <td>5</td>\n",
       "      <td>-5373797595892518570</td>\n",
       "      <td>2016-05-01 00:07:18</td>\n",
       "      <td>115.88</td>\n",
       "      <td>28.66</td>\n",
       "    </tr>\n",
       "  </tbody>\n",
       "</table>\n",
       "</div>"
      ],
      "text/plain": [
       "   event_id            device_id            timestamp  longitude  latitude\n",
       "0         1    29182687948017175  2016-05-01 00:55:25     121.38     31.24\n",
       "1         2 -6401643145415154744  2016-05-01 00:54:12     103.65     30.97\n",
       "2         3 -4833982096941402721  2016-05-01 00:08:05     106.60     29.70\n",
       "3         4 -6815121365017318426  2016-05-01 00:06:40     104.27     23.28\n",
       "4         5 -5373797595892518570  2016-05-01 00:07:18     115.88     28.66"
      ]
     },
     "execution_count": 13,
     "metadata": {},
     "output_type": "execute_result"
    }
   ],
   "source": [
    "events_data = pd.read_csv('C:\\\\Users\\\\user\\\\Downloads\\\\talkingdata-mobile-user-demographic\\\\events.csv')\n",
    "events_data.set_index('device_id')\n",
    "events_data=events_data.drop_duplicates()\n",
    "events_data.head()"
   ]
  },
  {
   "cell_type": "code",
   "execution_count": 14,
   "metadata": {
    "colab": {
     "base_uri": "https://localhost:8080/",
     "height": 204
    },
    "id": "ot3IPXeqDn_f",
    "outputId": "16784db5-8da4-431e-efe5-391482492e9f"
   },
   "outputs": [
    {
     "data": {
      "text/html": [
       "<div>\n",
       "<style scoped>\n",
       "    .dataframe tbody tr th:only-of-type {\n",
       "        vertical-align: middle;\n",
       "    }\n",
       "\n",
       "    .dataframe tbody tr th {\n",
       "        vertical-align: top;\n",
       "    }\n",
       "\n",
       "    .dataframe thead th {\n",
       "        text-align: right;\n",
       "    }\n",
       "</style>\n",
       "<table border=\"1\" class=\"dataframe\">\n",
       "  <thead>\n",
       "    <tr style=\"text-align: right;\">\n",
       "      <th></th>\n",
       "      <th>device_id</th>\n",
       "      <th>gender</th>\n",
       "      <th>age</th>\n",
       "      <th>group</th>\n",
       "      <th>phone_brand</th>\n",
       "      <th>device_model</th>\n",
       "      <th>event_id</th>\n",
       "      <th>timestamp</th>\n",
       "      <th>longitude</th>\n",
       "      <th>latitude</th>\n",
       "    </tr>\n",
       "  </thead>\n",
       "  <tbody>\n",
       "    <tr>\n",
       "      <th>0</th>\n",
       "      <td>-8260683887967679142</td>\n",
       "      <td>M</td>\n",
       "      <td>35</td>\n",
       "      <td>M32-38</td>\n",
       "      <td>Xiaomi</td>\n",
       "      <td>MI 2</td>\n",
       "      <td>2479656</td>\n",
       "      <td>2016-05-01 14:23:37</td>\n",
       "      <td>0.00</td>\n",
       "      <td>0.00</td>\n",
       "    </tr>\n",
       "    <tr>\n",
       "      <th>1</th>\n",
       "      <td>7477216237379271436</td>\n",
       "      <td>F</td>\n",
       "      <td>37</td>\n",
       "      <td>F33-42</td>\n",
       "      <td>Huawei</td>\n",
       "      <td>荣耀6 plus</td>\n",
       "      <td>280934</td>\n",
       "      <td>2016-05-04 14:10:03</td>\n",
       "      <td>119.57</td>\n",
       "      <td>31.75</td>\n",
       "    </tr>\n",
       "    <tr>\n",
       "      <th>2</th>\n",
       "      <td>7477216237379271436</td>\n",
       "      <td>F</td>\n",
       "      <td>37</td>\n",
       "      <td>F33-42</td>\n",
       "      <td>Huawei</td>\n",
       "      <td>荣耀6 plus</td>\n",
       "      <td>363585</td>\n",
       "      <td>2016-05-04 14:13:30</td>\n",
       "      <td>119.57</td>\n",
       "      <td>31.75</td>\n",
       "    </tr>\n",
       "    <tr>\n",
       "      <th>3</th>\n",
       "      <td>7477216237379271436</td>\n",
       "      <td>F</td>\n",
       "      <td>37</td>\n",
       "      <td>F33-42</td>\n",
       "      <td>Huawei</td>\n",
       "      <td>荣耀6 plus</td>\n",
       "      <td>935225</td>\n",
       "      <td>2016-05-06 18:51:15</td>\n",
       "      <td>0.00</td>\n",
       "      <td>0.00</td>\n",
       "    </tr>\n",
       "    <tr>\n",
       "      <th>4</th>\n",
       "      <td>7477216237379271436</td>\n",
       "      <td>F</td>\n",
       "      <td>37</td>\n",
       "      <td>F33-42</td>\n",
       "      <td>Huawei</td>\n",
       "      <td>荣耀6 plus</td>\n",
       "      <td>1551108</td>\n",
       "      <td>2016-05-04 14:09:29</td>\n",
       "      <td>119.57</td>\n",
       "      <td>31.75</td>\n",
       "    </tr>\n",
       "  </tbody>\n",
       "</table>\n",
       "</div>"
      ],
      "text/plain": [
       "             device_id gender  age   group phone_brand device_model  event_id  \\\n",
       "0 -8260683887967679142      M   35  M32-38      Xiaomi         MI 2   2479656   \n",
       "1  7477216237379271436      F   37  F33-42      Huawei     荣耀6 plus    280934   \n",
       "2  7477216237379271436      F   37  F33-42      Huawei     荣耀6 plus    363585   \n",
       "3  7477216237379271436      F   37  F33-42      Huawei     荣耀6 plus    935225   \n",
       "4  7477216237379271436      F   37  F33-42      Huawei     荣耀6 plus   1551108   \n",
       "\n",
       "             timestamp  longitude  latitude  \n",
       "0  2016-05-01 14:23:37       0.00      0.00  \n",
       "1  2016-05-04 14:10:03     119.57     31.75  \n",
       "2  2016-05-04 14:13:30     119.57     31.75  \n",
       "3  2016-05-06 18:51:15       0.00      0.00  \n",
       "4  2016-05-04 14:09:29     119.57     31.75  "
      ]
     },
     "execution_count": 14,
     "metadata": {},
     "output_type": "execute_result"
    }
   ],
   "source": [
    "#loading and mapping with device Ids in train data\n",
    "gender_data_event = pd.merge(left=gender_mobile_data, right=events_data, left_on='device_id', right_on='device_id')\n",
    "gender_data_event.head()"
   ]
  },
  {
   "cell_type": "code",
   "execution_count": 15,
   "metadata": {},
   "outputs": [
    {
     "data": {
      "text/plain": [
       "(1215616, 10)"
      ]
     },
     "execution_count": 15,
     "metadata": {},
     "output_type": "execute_result"
    }
   ],
   "source": [
    "gender_data_event.shape"
   ]
  },
  {
   "cell_type": "code",
   "execution_count": 16,
   "metadata": {},
   "outputs": [
    {
     "name": "stdout",
     "output_type": "stream",
     "text": [
      "Devices with Events Data: 23309 which is  31.23 percentage of overall training data\n"
     ]
    }
   ],
   "source": [
    "print('Devices with Events Data:',len(gender_data_event['device_id'].unique()),'which is ',round(((len(gender_data_event['device_id'].unique())/len(gender_age_train))*100),2),'percentage of overall training data')"
   ]
  },
  {
   "cell_type": "raw",
   "metadata": {
    "id": "N1JOaadSH_A5"
   },
   "source": [
    "Observation:\n",
    "1.Only 31.23% of devices has the the event data logged along with phone brand & phone model data.\n",
    "2.Event and app data features can only be used for training this 31.23% of data.\n",
    "3.In this case we can divide the data into DATA-WITH-EVENTS and DATA-WITHOUT-EVENTS and train individually with different models"
   ]
  },
  {
   "cell_type": "code",
   "execution_count": 17,
   "metadata": {
    "colab": {
     "base_uri": "https://localhost:8080/",
     "height": 454
    },
    "id": "VIFn37YfRKzL",
    "outputId": "9ac5b812-26ff-4455-b463-848e470069a5"
   },
   "outputs": [
    {
     "data": {
      "image/png": "[encoded data removed]",
      "text/plain": [
       "<Figure size 1800x1800 with 2 Axes>"
      ]
     },
     "metadata": {},
     "output_type": "display_data"
    }
   ],
   "source": [
    "import calendar\n",
    "from matplotlib.pyplot import figure\n",
    "plt.figure(figsize=(25,25))\n",
    "#Distribution of events w.r.t Day and Group\n",
    "plt.title(' Number of events w.r.t Day and Group')\n",
    "plt.subplot(2, 1,1)\n",
    "gender_data_event['timestamp']=pd.to_datetime(gender_data_event.timestamp)\n",
    "gender_data_event['Day'] = gender_data_event.timestamp.dt.day_name()\n",
    "sns.countplot(x=\"Day\",hue=\"group\", data=gender_data_event)\n",
    "\n",
    "#Distribution of events w.r.t Hour and Group\n",
    "plt.title(' Number of events w.r.t Hour and Group')\n",
    "plt.subplot(2, 1,2)\n",
    "gender_data_event['hours'] = gender_data_event['timestamp'].apply(lambda x: x.hour)\n",
    "sns.countplot(x='hours',hue='group' ,data=gender_data_event)\n",
    "plt.show()"
   ]
  },
  {
   "cell_type": "code",
   "execution_count": 24,
   "metadata": {},
   "outputs": [],
   "source": [
    "gender_data_event['dayofyear']= gender_data_event['timestamp'].apply(lambda x: x.dayofyear)"
   ]
  },
  {
   "cell_type": "code",
   "execution_count": 25,
   "metadata": {
    "scrolled": true
   },
   "outputs": [
    {
     "data": {
      "image/png": "[encoded data removed]",
      "text/plain": [
       "<Figure size 432x288 with 1 Axes>"
      ]
     },
     "metadata": {},
     "output_type": "display_data"
    },
    {
     "name": "stdout",
     "output_type": "stream",
     "text": [
      "Event data is provide from starting  2016-04-30 23:52:24  to  2016-05-08 00:00:08\n"
     ]
    }
   ],
   "source": [
    "#Distribution of events w.r.t DayofYear and Group\n",
    "plt.title(' Number of events w.r.t DayofYear and Group')\n",
    "sns.countplot(x='dayofyear',hue='group' ,data=gender_data_event)\n",
    "plt.show()\n",
    "print('Event data is provide from starting ' ,gender_data_event ['timestamp'].min(),' to ',gender_data_event ['timestamp'].max())"
   ]
  },
  {
   "cell_type": "raw",
   "metadata": {},
   "source": [
    "Observation:\n",
    "1.Event data is provided only for a week from May1st to May 7th in 2016.\n",
    "2.Since data is provide only for a week,day feature can't be used for training purpose.\n",
    "3.Distribution of Groups across the time-hour of the events not well uniform and it can a good feature for training\n"
   ]
  },
  {
   "cell_type": "code",
   "execution_count": 23,
   "metadata": {},
   "outputs": [
    {
     "data": {
      "image/png": "[encoded data removed]",
      "text/plain": [
       "<Figure size 432x288 with 1 Axes>"
      ]
     },
     "metadata": {},
     "output_type": "display_data"
    },
    {
     "name": "stdout",
     "output_type": "stream",
     "text": [
      "event count:  71.0  Percentile:  81\n",
      "event count:  75.0  Percentile:  82\n",
      "event count:  80.0  Percentile:  83\n",
      "event count:  86.0  Percentile:  84\n",
      "event count:  91.0  Percentile:  85\n",
      "event count:  97.0  Percentile:  86\n",
      "event count:  104.0  Percentile:  87\n",
      "event count:  111.0  Percentile:  88\n",
      "event count:  120.0  Percentile:  89\n",
      "event count:  131.0  Percentile:  90\n",
      "event count:  143.0  Percentile:  91\n",
      "event count:  156.0  Percentile:  92\n",
      "event count:  172.0  Percentile:  93\n",
      "event count:  190.0  Percentile:  94\n",
      "event count:  215.0  Percentile:  95\n",
      "event count:  248.0  Percentile:  96\n",
      "event count:  293.0  Percentile:  97\n",
      "event count:  374.0  Percentile:  98\n",
      "event count:  517.0  Percentile:  99\n",
      "event count:  4150.0  Percentile:  100\n"
     ]
    }
   ],
   "source": [
    "event_counts=gender_data_event.groupby(gender_data_event['device_id']).count().values\n",
    "plt.title(' Event count distribution')\n",
    "p = np.arange(1, len(event_counts)+1)\n",
    "plt.plot(p,event_counts) \n",
    "plt.show()\n",
    "for i in range(20):\n",
    "    print('event count: ',np.percentile(event_counts,(i+81)),' Percentile: ',(i+81))"
   ]
  },
  {
   "cell_type": "raw",
   "metadata": {},
   "source": [
    "Feature-Observation:\n",
    "1.As we see in above graph we have devices with number of events logged ranging to 4000 during just a week.\n",
    "2.We may not sure whether these are outliers but considersing 95perentile data with events count less than 215 could be suggested for feature engineering."
   ]
  },
  {
   "cell_type": "code",
   "execution_count": 297,
   "metadata": {},
   "outputs": [
    {
     "name": "stdout",
     "output_type": "stream",
     "text": [
      "Total Number of events logged: 1215616\n"
     ]
    }
   ],
   "source": [
    "print('Total Number of events logged:',len(gender_data_event))"
   ]
  },
  {
   "cell_type": "code",
   "execution_count": 308,
   "metadata": {},
   "outputs": [
    {
     "data": {
      "image/png": "[encoded data removed]",
      "text/plain": [
       "<Figure size 432x288 with 1 Axes>"
      ]
     },
     "metadata": {},
     "output_type": "display_data"
    }
   ],
   "source": [
    "kp = np.arange(1, len(gender_data_event)+1)\n",
    "lk=gender_data_event['latitude'].values\n",
    "plt.scatter(lk,kp) \n",
    "plt.show()"
   ]
  },
  {
   "cell_type": "code",
   "execution_count": 317,
   "metadata": {},
   "outputs": [
    {
     "data": {
      "image/png": "[encoded data removed]",
      "text/plain": [
       "<Figure size 432x288 with 1 Axes>"
      ]
     },
     "metadata": {},
     "output_type": "display_data"
    }
   ],
   "source": [
    "kp = np.arange(1, len(gender_data_event)+1)\n",
    "lk=gender_data_event['longitude'].values\n",
    "plt.scatter(lk,kp) \n",
    "plt.show()"
   ]
  },
  {
   "cell_type": "code",
   "execution_count": 316,
   "metadata": {},
   "outputs": [],
   "source": [
    "#gender_data_event['latitude'].loc[gender_data_event['latitude']<2]\n",
    "#gender_data_event['latitude'].value_counts()"
   ]
  },
  {
   "cell_type": "code",
   "execution_count": 294,
   "metadata": {},
   "outputs": [
    {
     "name": "stdout",
     "output_type": "stream",
     "text": [
      "Number of 0.00 0.00 locations : 356175 29.3 percenatge of total values\n"
     ]
    }
   ],
   "source": [
    "count_0=len(gender_data_event.loc[gender_data_event['latitude']==0.00].loc[gender_data_event['longitude']==0.00])\n",
    "per=round((count_0/len(gender_data_event)*100),2)\n",
    "print('Number of 0.00 0.00 locations :',count_0,per,'percenatge of total values')"
   ]
  },
  {
   "cell_type": "code",
   "execution_count": 289,
   "metadata": {},
   "outputs": [
    {
     "name": "stdout",
     "output_type": "stream",
     "text": [
      "Number of 1.00 1.00 locations : 28616\n"
     ]
    }
   ],
   "source": [
    "print('Number of 1.00 1.00 locations :',len(gender_data_event.loc[gender_data_event['latitude']==1.00].loc[gender_data_event['longitude']==1.00]))"
   ]
  },
  {
   "cell_type": "raw",
   "metadata": {},
   "source": [
    "Observation:\n",
    "1.Latitude and Longitude with 0 & 1 values can be considered as majot outlier which constitues 30% of data\n",
    "2.Lat-long coorditates for cities in China are in range: Latitude from 18.24306 to 52.33333 and longitude from 75.98951 to 134.28917.\n",
    "    So considering the values in the given actual range can give better results by eliminating the outliers\n",
    "3.Latitude and Longitude values  are provided some negative values as well which should be taken care"
   ]
  },
  {
   "cell_type": "markdown",
   "metadata": {},
   "source": [
    "# 4.Label_categories file"
   ]
  },
  {
   "cell_type": "code",
   "execution_count": 242,
   "metadata": {},
   "outputs": [
    {
     "data": {
      "text/html": [
       "<div>\n",
       "<style scoped>\n",
       "    .dataframe tbody tr th:only-of-type {\n",
       "        vertical-align: middle;\n",
       "    }\n",
       "\n",
       "    .dataframe tbody tr th {\n",
       "        vertical-align: top;\n",
       "    }\n",
       "\n",
       "    .dataframe thead th {\n",
       "        text-align: right;\n",
       "    }\n",
       "</style>\n",
       "<table border=\"1\" class=\"dataframe\">\n",
       "  <thead>\n",
       "    <tr style=\"text-align: right;\">\n",
       "      <th></th>\n",
       "      <th>label_id</th>\n",
       "      <th>category</th>\n",
       "    </tr>\n",
       "  </thead>\n",
       "  <tbody>\n",
       "    <tr>\n",
       "      <th>0</th>\n",
       "      <td>1</td>\n",
       "      <td>NaN</td>\n",
       "    </tr>\n",
       "    <tr>\n",
       "      <th>1</th>\n",
       "      <td>2</td>\n",
       "      <td>game-game type</td>\n",
       "    </tr>\n",
       "    <tr>\n",
       "      <th>2</th>\n",
       "      <td>3</td>\n",
       "      <td>game-Game themes</td>\n",
       "    </tr>\n",
       "    <tr>\n",
       "      <th>3</th>\n",
       "      <td>4</td>\n",
       "      <td>game-Art Style</td>\n",
       "    </tr>\n",
       "    <tr>\n",
       "      <th>4</th>\n",
       "      <td>5</td>\n",
       "      <td>game-Leisure time</td>\n",
       "    </tr>\n",
       "  </tbody>\n",
       "</table>\n",
       "</div>"
      ],
      "text/plain": [
       "   label_id           category\n",
       "0         1                NaN\n",
       "1         2     game-game type\n",
       "2         3   game-Game themes\n",
       "3         4     game-Art Style\n",
       "4         5  game-Leisure time"
      ]
     },
     "execution_count": 242,
     "metadata": {},
     "output_type": "execute_result"
    }
   ],
   "source": [
    "label_categories = pd.read_csv('C:\\\\Users\\\\user\\\\Downloads\\\\talkingdata-mobile-user-demographic\\\\label_categories.csv')\n",
    "label_categories=label_categories.drop_duplicates()\n",
    "label_categories.head()"
   ]
  },
  {
   "cell_type": "code",
   "execution_count": 246,
   "metadata": {},
   "outputs": [
    {
     "name": "stdout",
     "output_type": "stream",
     "text": [
      "<class 'pandas.core.frame.DataFrame'>\n",
      "Int64Index: 930 entries, 0 to 929\n",
      "Data columns (total 2 columns):\n",
      " #   Column    Non-Null Count  Dtype \n",
      "---  ------    --------------  ----- \n",
      " 0   label_id  930 non-null    int64 \n",
      " 1   category  927 non-null    object\n",
      "dtypes: int64(1), object(1)\n",
      "memory usage: 21.8+ KB\n"
     ]
    }
   ],
   "source": [
    "label_categories.info()"
   ]
  },
  {
   "cell_type": "code",
   "execution_count": 243,
   "metadata": {},
   "outputs": [
    {
     "name": "stdout",
     "output_type": "stream",
     "text": [
      "Number of Categories: 836\n",
      "Number of Label_IDs: 930\n"
     ]
    }
   ],
   "source": [
    "print('Number of Categories:',len(label_categories['category'].unique()))\n",
    "print('Number of Label_IDs:',len(label_categories['label_id'].unique()))"
   ]
  },
  {
   "cell_type": "raw",
   "metadata": {},
   "source": [
    "Observation:\n",
    "1.It is just like a database file providing to which category the label_id belongs to.\n",
    "2.We can aslo see that  for same  category we have different labels"
   ]
  },
  {
   "cell_type": "markdown",
   "metadata": {
    "id": "MOG6N5KLRp7C"
   },
   "source": [
    "**5.App Labels Data**"
   ]
  },
  {
   "cell_type": "code",
   "execution_count": 249,
   "metadata": {
    "colab": {
     "base_uri": "https://localhost:8080/",
     "height": 204
    },
    "id": "bzqvSOiIRp7D",
    "outputId": "4faa38e2-0679-4dc4-91c2-ad29034a958b"
   },
   "outputs": [
    {
     "data": {
      "text/html": [
       "<div>\n",
       "<style scoped>\n",
       "    .dataframe tbody tr th:only-of-type {\n",
       "        vertical-align: middle;\n",
       "    }\n",
       "\n",
       "    .dataframe tbody tr th {\n",
       "        vertical-align: top;\n",
       "    }\n",
       "\n",
       "    .dataframe thead th {\n",
       "        text-align: right;\n",
       "    }\n",
       "</style>\n",
       "<table border=\"1\" class=\"dataframe\">\n",
       "  <thead>\n",
       "    <tr style=\"text-align: right;\">\n",
       "      <th></th>\n",
       "      <th>app_id</th>\n",
       "      <th>label_id</th>\n",
       "    </tr>\n",
       "  </thead>\n",
       "  <tbody>\n",
       "    <tr>\n",
       "      <th>0</th>\n",
       "      <td>7324884708820027918</td>\n",
       "      <td>251</td>\n",
       "    </tr>\n",
       "    <tr>\n",
       "      <th>1</th>\n",
       "      <td>-4494216993218550286</td>\n",
       "      <td>251</td>\n",
       "    </tr>\n",
       "    <tr>\n",
       "      <th>2</th>\n",
       "      <td>6058196446775239644</td>\n",
       "      <td>406</td>\n",
       "    </tr>\n",
       "    <tr>\n",
       "      <th>3</th>\n",
       "      <td>6058196446775239644</td>\n",
       "      <td>407</td>\n",
       "    </tr>\n",
       "    <tr>\n",
       "      <th>4</th>\n",
       "      <td>8694625920731541625</td>\n",
       "      <td>406</td>\n",
       "    </tr>\n",
       "  </tbody>\n",
       "</table>\n",
       "</div>"
      ],
      "text/plain": [
       "                app_id  label_id\n",
       "0  7324884708820027918       251\n",
       "1 -4494216993218550286       251\n",
       "2  6058196446775239644       406\n",
       "3  6058196446775239644       407\n",
       "4  8694625920731541625       406"
      ]
     },
     "execution_count": 249,
     "metadata": {},
     "output_type": "execute_result"
    }
   ],
   "source": [
    "apps_label_data = pd.read_csv('C:\\\\Users\\\\user\\\\Downloads\\\\talkingdata-mobile-user-demographic\\\\app_labels.csv')\n",
    "apps_label_data=apps_label_data.drop_duplicates()\n",
    "apps_label_data.head()"
   ]
  },
  {
   "cell_type": "code",
   "execution_count": 245,
   "metadata": {
    "colab": {
     "base_uri": "https://localhost:8080/",
     "height": 204
    },
    "id": "0XPoZdrHRp7E",
    "outputId": "73e6e4f4-c4a2-4431-c448-eb81d97c00c3"
   },
   "outputs": [
    {
     "data": {
      "text/html": [
       "<div>\n",
       "<style scoped>\n",
       "    .dataframe tbody tr th:only-of-type {\n",
       "        vertical-align: middle;\n",
       "    }\n",
       "\n",
       "    .dataframe tbody tr th {\n",
       "        vertical-align: top;\n",
       "    }\n",
       "\n",
       "    .dataframe thead th {\n",
       "        text-align: right;\n",
       "    }\n",
       "</style>\n",
       "<table border=\"1\" class=\"dataframe\">\n",
       "  <thead>\n",
       "    <tr style=\"text-align: right;\">\n",
       "      <th></th>\n",
       "      <th>app_id</th>\n",
       "      <th>category</th>\n",
       "    </tr>\n",
       "  </thead>\n",
       "  <tbody>\n",
       "    <tr>\n",
       "      <th>0</th>\n",
       "      <td>7324884708820027918</td>\n",
       "      <td>Finance</td>\n",
       "    </tr>\n",
       "    <tr>\n",
       "      <th>1</th>\n",
       "      <td>-4494216993218550286</td>\n",
       "      <td>Finance</td>\n",
       "    </tr>\n",
       "    <tr>\n",
       "      <th>2</th>\n",
       "      <td>6058196446775239644</td>\n",
       "      <td>unknown</td>\n",
       "    </tr>\n",
       "    <tr>\n",
       "      <th>3</th>\n",
       "      <td>6058196446775239644</td>\n",
       "      <td>DS_P2P net loan</td>\n",
       "    </tr>\n",
       "    <tr>\n",
       "      <th>4</th>\n",
       "      <td>8694625920731541625</td>\n",
       "      <td>unknown</td>\n",
       "    </tr>\n",
       "  </tbody>\n",
       "</table>\n",
       "</div>"
      ],
      "text/plain": [
       "                app_id         category\n",
       "0  7324884708820027918          Finance\n",
       "1 -4494216993218550286          Finance\n",
       "2  6058196446775239644          unknown\n",
       "3  6058196446775239644  DS_P2P net loan\n",
       "4  8694625920731541625          unknown"
      ]
     },
     "execution_count": 245,
     "metadata": {},
     "output_type": "execute_result"
    }
   ],
   "source": [
    "#Attaching category data to applabel_data file\n",
    "apps_category=pd.merge(apps_label_data,label_categories,on='label_id',how='left')\n",
    "apps_category=apps_category.drop(['label_id'], axis='columns')\n",
    "apps_category.head()"
   ]
  },
  {
   "cell_type": "code",
   "execution_count": 248,
   "metadata": {},
   "outputs": [
    {
     "name": "stdout",
     "output_type": "stream",
     "text": [
      "<class 'pandas.core.frame.DataFrame'>\n",
      "Int64Index: 459452 entries, 0 to 459451\n",
      "Data columns (total 2 columns):\n",
      " #   Column    Non-Null Count   Dtype \n",
      "---  ------    --------------   ----- \n",
      " 0   app_id    459452 non-null  int64 \n",
      " 1   category  459452 non-null  object\n",
      "dtypes: int64(1), object(1)\n",
      "memory usage: 10.5+ MB\n"
     ]
    }
   ],
   "source": [
    "apps_category.info()"
   ]
  },
  {
   "cell_type": "code",
   "execution_count": 251,
   "metadata": {
    "colab": {
     "base_uri": "https://localhost:8080/"
    },
    "id": "oSgX6SivGsNY",
    "outputId": "032470ea-d2dd-4af4-864a-df1209dbb0f3"
   },
   "outputs": [
    {
     "name": "stdout",
     "output_type": "stream",
     "text": [
      "Total Number of Apps: 459452 with total number of categories:  473\n"
     ]
    }
   ],
   "source": [
    "print('Total Number of Apps:',len(apps_category) ,'with Total number of categories: ',len(apps_category['category'].unique()))"
   ]
  },
  {
   "cell_type": "raw",
   "metadata": {},
   "source": [
    "Observaton:\n",
    "1.Total Number of Apps: 459452 with total number of categories:  473\n",
    "2.This file provides the information about categories for each Application"
   ]
  },
  {
   "cell_type": "markdown",
   "metadata": {
    "id": "lTPCG9NdRp7E"
   },
   "source": [
    "**6.App Events Data**"
   ]
  },
  {
   "cell_type": "code",
   "execution_count": 252,
   "metadata": {
    "colab": {
     "base_uri": "https://localhost:8080/",
     "height": 204
    },
    "id": "1Eag1MstRp7E",
    "outputId": "e04c37cd-a805-491d-abcf-e85e9b3f45cb"
   },
   "outputs": [
    {
     "data": {
      "text/html": [
       "<div>\n",
       "<style scoped>\n",
       "    .dataframe tbody tr th:only-of-type {\n",
       "        vertical-align: middle;\n",
       "    }\n",
       "\n",
       "    .dataframe tbody tr th {\n",
       "        vertical-align: top;\n",
       "    }\n",
       "\n",
       "    .dataframe thead th {\n",
       "        text-align: right;\n",
       "    }\n",
       "</style>\n",
       "<table border=\"1\" class=\"dataframe\">\n",
       "  <thead>\n",
       "    <tr style=\"text-align: right;\">\n",
       "      <th></th>\n",
       "      <th>event_id</th>\n",
       "      <th>app_id</th>\n",
       "      <th>is_installed</th>\n",
       "      <th>is_active</th>\n",
       "    </tr>\n",
       "  </thead>\n",
       "  <tbody>\n",
       "    <tr>\n",
       "      <th>0</th>\n",
       "      <td>2</td>\n",
       "      <td>5927333115845830913</td>\n",
       "      <td>1</td>\n",
       "      <td>1</td>\n",
       "    </tr>\n",
       "    <tr>\n",
       "      <th>1</th>\n",
       "      <td>2</td>\n",
       "      <td>-5720078949152207372</td>\n",
       "      <td>1</td>\n",
       "      <td>0</td>\n",
       "    </tr>\n",
       "    <tr>\n",
       "      <th>2</th>\n",
       "      <td>2</td>\n",
       "      <td>-1633887856876571208</td>\n",
       "      <td>1</td>\n",
       "      <td>0</td>\n",
       "    </tr>\n",
       "    <tr>\n",
       "      <th>3</th>\n",
       "      <td>2</td>\n",
       "      <td>-653184325010919369</td>\n",
       "      <td>1</td>\n",
       "      <td>1</td>\n",
       "    </tr>\n",
       "    <tr>\n",
       "      <th>4</th>\n",
       "      <td>2</td>\n",
       "      <td>8693964245073640147</td>\n",
       "      <td>1</td>\n",
       "      <td>1</td>\n",
       "    </tr>\n",
       "  </tbody>\n",
       "</table>\n",
       "</div>"
      ],
      "text/plain": [
       "   event_id               app_id  is_installed  is_active\n",
       "0         2  5927333115845830913             1          1\n",
       "1         2 -5720078949152207372             1          0\n",
       "2         2 -1633887856876571208             1          0\n",
       "3         2  -653184325010919369             1          1\n",
       "4         2  8693964245073640147             1          1"
      ]
     },
     "execution_count": 252,
     "metadata": {},
     "output_type": "execute_result"
    }
   ],
   "source": [
    "apps_events_data = pd.read_csv('C:\\\\Users\\\\user\\\\Downloads\\\\talkingdata-mobile-user-demographic\\\\app_events.csv')\n",
    "apps_events_data.head()\n"
   ]
  },
  {
   "cell_type": "code",
   "execution_count": 254,
   "metadata": {},
   "outputs": [
    {
     "name": "stdout",
     "output_type": "stream",
     "text": [
      "<class 'pandas.core.frame.DataFrame'>\n",
      "RangeIndex: 32473067 entries, 0 to 32473066\n",
      "Data columns (total 4 columns):\n",
      " #   Column        Dtype\n",
      "---  ------        -----\n",
      " 0   event_id      int64\n",
      " 1   app_id        int64\n",
      " 2   is_installed  int64\n",
      " 3   is_active     int64\n",
      "dtypes: int64(4)\n",
      "memory usage: 991.0 MB\n"
     ]
    }
   ],
   "source": [
    "apps_events_data.info()"
   ]
  },
  {
   "cell_type": "code",
   "execution_count": 257,
   "metadata": {},
   "outputs": [
    {
     "data": {
      "text/plain": [
       "1    32473067\n",
       "Name: is_installed, dtype: int64"
      ]
     },
     "execution_count": 257,
     "metadata": {},
     "output_type": "execute_result"
    }
   ],
   "source": [
    "apps_events_data['is_installed'].value_counts()"
   ]
  },
  {
   "cell_type": "code",
   "execution_count": 299,
   "metadata": {},
   "outputs": [
    {
     "data": {
      "text/plain": [
       "0    19740071\n",
       "1    12732996\n",
       "Name: is_active, dtype: int64"
      ]
     },
     "execution_count": 299,
     "metadata": {},
     "output_type": "execute_result"
    }
   ],
   "source": [
    "apps_events_data['is_active'].value_counts()"
   ]
  },
  {
   "cell_type": "code",
   "execution_count": 302,
   "metadata": {},
   "outputs": [
    {
     "data": {
      "text/plain": [
       "60.79"
      ]
     },
     "execution_count": 302,
     "metadata": {},
     "output_type": "execute_result"
    }
   ],
   "source": [
    "round((apps_events_data['is_active'].value_counts()[0]/len(apps_events_data))*100,2)"
   ]
  },
  {
   "cell_type": "raw",
   "metadata": {},
   "source": [
    "Observation:\n",
    "1.This file provides informaton of apps connected to the events\n",
    "2.'is_installed' columns can be dropped as it contains single value.\n",
    "3.60.8 percentage of Event linked Apps were stated as Inactive\n"
   ]
  },
  {
   "cell_type": "code",
   "execution_count": 263,
   "metadata": {},
   "outputs": [
    {
     "name": "stdout",
     "output_type": "stream",
     "text": [
      "Number of 0.00 0.00 locations : 968675\n"
     ]
    }
   ],
   "source": [
    "print('Number of 0.00 0.00 locations :',len(events_data.loc[events_data['latitude']==0.00].loc[events_data['longitude']==0.00]))"
   ]
  },
  {
   "cell_type": "markdown",
   "metadata": {
    "id": "jDPuFenR6YWr"
   },
   "source": [
    "# **Overall Observations**:"
   ]
  },
  {
   "cell_type": "raw",
   "metadata": {},
   "source": [
    "1.The given train data is imbalanced w.r.t gender and group(here target classes) which should be remembered when calculating performance of model.\n",
    "2.Only 31% of data is provided with events data\n",
    "3.Event data is logged for only 1 continous week for MAy1st week 2016 which makes Day feature can't be used for training\n",
    "4.Hour feature from timestamp of event data can be used for training \n",
    "5.Location details in events data consists of around 30% of outliers which should be taken care of during training\n",
    "4.We have devices with number of events logged ranging to 4000 during just a week So ,we may not sure whether these are outliers but considersing 95perentile data with events count less than 215 could be suggested for feature engineering.\n",
    "5.60.8 percentage of Event linked Apps were stated as Inactive which should be taken during training."
   ]
  },
  {
   "cell_type": "code",
   "execution_count": 4,
   "metadata": {},
   "outputs": [
    {
     "name": "stdout",
     "output_type": "stream",
     "text": [
      "Initialize libraries\n",
      "# Read app events\n",
      "### ----- PART 1 ----- ###\n",
      "# Read app events\n",
      "# Read Events\n",
      "#Part1 formed\n",
      "### ----- PART 2 ----- ###\n",
      "# Read App labels\n",
      "# App labels done\n",
      "## Handling events data for merging with app lables\n",
      "## Merge\n",
      "#Expand to multiple rows\n",
      "# App labels done\n",
      "# App category part formed\n",
      "### ----- PART 3 ----- ###\n",
      "# Read Phone Brand\n",
      "# Generate Train and Test\n",
      "<class 'pandas.core.frame.DataFrame'>\n",
      "RangeIndex: 74645 entries, 0 to 74644\n",
      "Data columns (total 3 columns):\n",
      " #   Column     Non-Null Count  Dtype  \n",
      "---  ------     --------------  -----  \n",
      " 0   device_id  74645 non-null  object \n",
      " 1   group      74645 non-null  object \n",
      " 2   dl         74645 non-null  float64\n",
      "dtypes: float64(1), object(2)\n",
      "memory usage: 1.7+ MB\n",
      "<class 'pandas.core.frame.DataFrame'>\n",
      "RangeIndex: 112071 entries, 0 to 112070\n",
      "Data columns (total 3 columns):\n",
      " #   Column     Non-Null Count   Dtype  \n",
      "---  ------     --------------   -----  \n",
      " 0   device_id  112071 non-null  object \n",
      " 1   dl         112071 non-null  float64\n",
      " 2   group      0 non-null       float64\n",
      "dtypes: float64(2), object(1)\n",
      "memory usage: 2.6+ MB\n",
      "### ----- PART 4 ----- ###\n",
      "# Concat all features\n",
      "              device_id           feature\n",
      "0  -8076087639492063270    phone_brand:小米\n",
      "1  -2897161552818060146    phone_brand:小米\n",
      "2  -8260683887967679142    phone_brand:小米\n",
      "3  -4938849341048082022    phone_brand:小米\n",
      "4    245133531816851882    phone_brand:小米\n",
      "5  -1297074871525174196  phone_brand:OPPO\n",
      "6    236877999787307864    phone_brand:酷派\n",
      "7  -8098239495777311881    phone_brand:小米\n",
      "8    176515041953473526  phone_brand:vivo\n",
      "9   1596610250680140042    phone_brand:三星\n",
      "              device_id           feature\n",
      "0  -8076087639492063270    phone_brand:小米\n",
      "1  -2897161552818060146    phone_brand:小米\n",
      "2  -8260683887967679142    phone_brand:小米\n",
      "3  -4938849341048082022    phone_brand:小米\n",
      "4    245133531816851882    phone_brand:小米\n",
      "5  -1297074871525174196  phone_brand:OPPO\n",
      "6    236877999787307864    phone_brand:酷派\n",
      "7  -8098239495777311881    phone_brand:小米\n",
      "8    176515041953473526  phone_brand:vivo\n",
      "9   1596610250680140042    phone_brand:三星\n",
      "              device_id                 feature\n",
      "0  -8076087639492063270       device_model:MI 2\n",
      "1  -2897161552818060146       device_model:MI 2\n",
      "2  -8260683887967679142       device_model:MI 2\n",
      "3  -4938849341048082022     device_model:红米note\n",
      "4    245133531816851882       device_model:MI 3\n",
      "5  -1297074871525174196        device_model:R1C\n",
      "6    236877999787307864         device_model:F2\n",
      "7  -8098239495777311881     device_model:红米note\n",
      "8    176515041953473526        device_model:X3T\n",
      "9   1596610250680140042  device_model:Galaxy S4\n",
      "             device_id                      feature\n",
      "0  -100015673884079572   app_id:5302560163370202064\n",
      "1  -100015673884079572  app_id:-7745076081943986520\n",
      "2  -100015673884079572   app_id:6324195579000287296\n",
      "3  -100015673884079572    app_id:415869968065565173\n",
      "4  -100015673884079572   app_id:4348659952760821294\n",
      "5  -100015673884079572    app_id:936333950832647056\n",
      "6  -100015673884079572  app_id:-7978659101159381732\n",
      "7  -100015673884079572    app_id:628020936226491308\n",
      "8  -100015673884079572  app_id:-4999931938126023656\n",
      "9  -100015673884079572   app_id:2297389247875368084\n",
      "             device_id           feature\n",
      "0  -100015673884079572            1 free\n",
      "1  -100015673884079572          A shares\n",
      "2  -100015673884079572        Air Travel\n",
      "3  -100015673884079572    And the Church\n",
      "4  -100015673884079572  Booking channels\n",
      "5  -100015673884079572            Cozy 1\n",
      "6  -100015673884079572      Custom label\n",
      "7  -100015673884079572  Cute style comic\n",
      "8  -100015673884079572   DS_P2P net loan\n",
      "9  -100015673884079572  Debit and credit\n",
      "              device_id        dl\n",
      "0  -8076087639492063270  0.000000\n",
      "1  -2897161552818060146  0.000013\n",
      "2  -8260683887967679142  0.000027\n",
      "3  -4938849341048082022  0.000040\n",
      "4    245133531816851882  0.000054\n",
      "5  -1297074871525174196  0.000067\n",
      "6    236877999787307864  0.000080\n",
      "7  -8098239495777311881  0.000094\n",
      "8    176515041953473526  0.000107\n",
      "9   1596610250680140042  0.000121\n",
      "<class 'pandas.core.frame.DataFrame'>\n",
      "RangeIndex: 6677856 entries, 0 to 6677855\n",
      "Data columns (total 2 columns):\n",
      " #   Column     Dtype \n",
      "---  ------     ----- \n",
      " 0   device_id  object\n",
      " 1   feature    object\n",
      "dtypes: object(2)\n",
      "memory usage: 101.9+ MB\n",
      "<class 'pandas.core.frame.DataFrame'>\n",
      "RangeIndex: 6864572 entries, 0 to 6864571\n",
      "Data columns (total 3 columns):\n",
      " #   Column     Dtype  \n",
      "---  ------     -----  \n",
      " 0   device_id  object \n",
      " 1   feature    object \n",
      " 2   dl         float64\n",
      "dtypes: float64(1), object(2)\n",
      "memory usage: 157.1+ MB\n",
      "              device_id           feature  dl\n",
      "0  -8076087639492063270    phone_brand:小米 NaN\n",
      "1  -2897161552818060146    phone_brand:小米 NaN\n",
      "2  -8260683887967679142    phone_brand:小米 NaN\n",
      "3  -4938849341048082022    phone_brand:小米 NaN\n",
      "4    245133531816851882    phone_brand:小米 NaN\n",
      "5  -1297074871525174196  phone_brand:OPPO NaN\n",
      "6    236877999787307864    phone_brand:酷派 NaN\n",
      "7  -8098239495777311881    phone_brand:小米 NaN\n",
      "8    176515041953473526  phone_brand:vivo NaN\n",
      "9   1596610250680140042    phone_brand:三星 NaN\n",
      "# User-Item-Feature\n"
     ]
    },
    {
     "name": "stderr",
     "output_type": "stream",
     "text": [
      "ERROR:root:Internal Python error in the inspect module.\n",
      "Below is the traceback from this internal error.\n",
      "\n"
     ]
    },
    {
     "name": "stdout",
     "output_type": "stream",
     "text": [
      "Traceback (most recent call last):\n",
      "  File \"C:\\Users\\user\\Anaconda3\\lib\\site-packages\\IPython\\core\\interactiveshell.py\", line 3326, in run_code\n",
      "    exec(code_obj, self.user_global_ns, self.user_ns)\n",
      "  File \"<ipython-input-4-ab7e01386e77>\", line 268, in <module>\n",
      "    data = np.hstack((np.ones(len(FLS)),moo.data)) # numpy ndarray\n",
      "  File \"C:\\Users\\user\\Anaconda3\\lib\\site-packages\\pandas\\core\\generic.py\", line 5487, in __getattr__\n",
      "    return object.__getattribute__(self, name)\n",
      "AttributeError: 'Series' object has no attribute 'data'\n",
      "\n",
      "During handling of the above exception, another exception occurred:\n",
      "\n",
      "Traceback (most recent call last):\n",
      "  File \"C:\\Users\\user\\Anaconda3\\lib\\site-packages\\IPython\\core\\interactiveshell.py\", line 2040, in showtraceback\n",
      "    stb = value._render_traceback_()\n",
      "AttributeError: 'AttributeError' object has no attribute '_render_traceback_'\n",
      "\n",
      "During handling of the above exception, another exception occurred:\n",
      "\n",
      "Traceback (most recent call last):\n",
      "  File \"C:\\Users\\user\\Anaconda3\\lib\\site-packages\\IPython\\core\\ultratb.py\", line 1101, in get_records\n",
      "    return _fixed_getinnerframes(etb, number_of_lines_of_context, tb_offset)\n",
      "  File \"C:\\Users\\user\\Anaconda3\\lib\\site-packages\\IPython\\core\\ultratb.py\", line 319, in wrapped\n",
      "    return f(*args, **kwargs)\n",
      "  File \"C:\\Users\\user\\Anaconda3\\lib\\site-packages\\IPython\\core\\ultratb.py\", line 353, in _fixed_getinnerframes\n",
      "    records = fix_frame_records_filenames(inspect.getinnerframes(etb, context))\n",
      "  File \"C:\\Users\\user\\Anaconda3\\lib\\inspect.py\", line 1502, in getinnerframes\n",
      "    frameinfo = (tb.tb_frame,) + getframeinfo(tb, context)\n",
      "  File \"C:\\Users\\user\\Anaconda3\\lib\\inspect.py\", line 1460, in getframeinfo\n",
      "    filename = getsourcefile(frame) or getfile(frame)\n",
      "  File \"C:\\Users\\user\\Anaconda3\\lib\\inspect.py\", line 696, in getsourcefile\n",
      "    if getattr(getmodule(object, filename), '__loader__', None) is not None:\n",
      "  File \"C:\\Users\\user\\Anaconda3\\lib\\inspect.py\", line 733, in getmodule\n",
      "    if ismodule(module) and hasattr(module, '__file__'):\n",
      "  File \"C:\\Users\\user\\Anaconda3\\lib\\site-packages\\tensorflow\\__init__.py\", line 50, in __getattr__\n",
      "    from ._api.v2 import __operators__\n",
      "  File \"C:\\Users\\user\\Anaconda3\\lib\\site-packages\\tensorflow\\__init__.py\", line 44, in _load\n",
      "    # Make sure code inside the TensorFlow codebase can use tf2.enabled() at import.\n",
      "  File \"C:\\Users\\user\\Anaconda3\\lib\\importlib\\__init__.py\", line 127, in import_module\n",
      "    return _bootstrap._gcd_import(name[level:], package, level)\n",
      "  File \"<frozen importlib._bootstrap>\", line 1006, in _gcd_import\n",
      "  File \"<frozen importlib._bootstrap>\", line 983, in _find_and_load\n",
      "  File \"<frozen importlib._bootstrap>\", line 965, in _find_and_load_unlocked\n",
      "ModuleNotFoundError: No module named 'tensorflow_core.estimator'\n"
     ]
    },
    {
     "ename": "AttributeError",
     "evalue": "'Series' object has no attribute 'data'",
     "output_type": "error",
     "traceback": [
      "\u001b[1;31m---------------------------------------------------------------------------\u001b[0m"
     ]
    }
   ],
   "source": [
    "\n",
    "# Bag of apps categories\n",
    "# Bag of labels categories\n",
    "# Include phone brand and model device\n",
    "\n",
    "print(\"Initialize libraries\")\n",
    "\n",
    "import pandas as pd\n",
    "import sys\n",
    "import numpy as np\n",
    "import scipy as sp\n",
    "import matplotlib.pyplot as plt\n",
    "from sklearn.model_selection import StratifiedKFold, KFold\n",
    "from sklearn.metrics import log_loss\n",
    "from sklearn.cluster import DBSCAN\n",
    "from sklearn import metrics as skmetrics\n",
    "from sklearn.preprocessing import StandardScaler\n",
    "import matplotlib.pyplot as plt\n",
    "from collections import Counter\n",
    "from keras.layers.advanced_activations import PReLU\n",
    "from sklearn.preprocessing import LabelEncoder\n",
    "import xgboost as xgb\n",
    "from xgboost.sklearn import XGBClassifier\n",
    "from sklearn import ensemble\n",
    "from sklearn.decomposition import PCA\n",
    "import os\n",
    "import gc\n",
    "from scipy import sparse\n",
    "from sklearn.model_selection import train_test_split, cross_val_score\n",
    "from sklearn.feature_selection import SelectPercentile, f_classif, chi2, SelectKBest\n",
    "from sklearn import ensemble\n",
    "from sklearn.neighbors import KNeighborsClassifier\n",
    "from keras.models import Sequential\n",
    "from keras.layers import Dense, Dropout, Activation\n",
    "from keras.wrappers.scikit_learn import KerasClassifier\n",
    "from keras.utils import np_utils\n",
    "from keras.optimizers import SGD\n",
    "\n",
    "from sklearn.model_selection import cross_val_score\n",
    "from sklearn.model_selection import KFold\n",
    "from sklearn.preprocessing import LabelEncoder\n",
    "from sklearn.pipeline import Pipeline\n",
    "from sklearn.model_selection import train_test_split\n",
    "from sklearn.metrics import log_loss\n",
    "\n",
    "#------------------------------------------------- Write functions ----------------------------------------\n",
    "\n",
    "def rstr(df): return df.dtypes, df.head(3) ,df.apply(lambda x: [x.unique()]), df.apply(lambda x: [len(x.unique())]),df.shape\n",
    "\n",
    "def batch_generator(X, y, batch_size, shuffle):\n",
    "    #chenglong code for fiting from generator (https://www.kaggle.com/c/talkingdata-mobile-user-demographics/forums/t/22567/neural-network-for-sparse-matrices)\n",
    "    number_of_batches = np.ceil(X.shape[0]/batch_size)\n",
    "    counter = 0\n",
    "    sample_index = np.arange(X.shape[0])\n",
    "    if shuffle:\n",
    "        np.random.shuffle(sample_index)\n",
    "    while True:\n",
    "        batch_index = sample_index[batch_size*counter:batch_size*(counter+1)]\n",
    "        X_batch = X[batch_index,:].toarray()\n",
    "        y_batch = y[batch_index]\n",
    "        counter += 1\n",
    "        yield X_batch, y_batch\n",
    "        if (counter == number_of_batches):\n",
    "            if shuffle:\n",
    "                np.random.shuffle(sample_index)\n",
    "            counter = 0\n",
    "\n",
    "def batch_generatorp(X, batch_size, shuffle):\n",
    "    number_of_batches = X.shape[0] / np.ceil(X.shape[0]/batch_size)\n",
    "    counter = 0\n",
    "    sample_index = np.arange(X.shape[0])\n",
    "    while True:\n",
    "        batch_index = sample_index[batch_size * counter:batch_size * (counter + 1)]\n",
    "        X_batch = X[batch_index, :].toarray()\n",
    "        counter += 1\n",
    "        yield X_batch\n",
    "        if (counter == number_of_batches):\n",
    "            counter = 0\n",
    "\n",
    "#------------------------------------------------ Read data from source files ------------------------------------\n",
    "\n",
    "seed = 700\n",
    "np.random.seed(seed)\n",
    "datadir='C:\\\\Users\\\\user\\\\Downloads\\\\talkingdata-mobile-user-demographic\\\\'\n",
    "print(\"# Read app events\")\n",
    "app_events = pd.read_csv(os.path.join(datadir,'app_events.csv'), dtype={'device_id' : np.str})\n",
    "\n",
    "print(\"### ----- PART 1 ----- ###\")\n",
    "\n",
    "# Data - Events data\n",
    "# Bag of apps\n",
    "print(\"# Read app events\")\n",
    "app_events = pd.read_csv(os.path.join(datadir,'app_events.csv'), dtype={'device_id' : np.str})\n",
    "#app_events.head(5)\n",
    "#app_events.info()\n",
    "#print(rstr(app_events))\n",
    "\n",
    "# remove duplicates(app_id)\n",
    "app_events= app_events.groupby(\"event_id\")[\"app_id\"].apply(\n",
    "    lambda x: \" \".join(set(\"app_id:\" + str(s) for s in x)))\n",
    "#app_events.head(5)\n",
    "\n",
    "print(\"# Read Events\")\n",
    "events = pd.read_csv(os.path.join(datadir,'events.csv'), dtype={'device_id': np.str})\n",
    "#events.head(5)\n",
    "events[\"app_id\"] = events[\"event_id\"].map(app_events)\n",
    "events = events.dropna()\n",
    "del app_events\n",
    "\n",
    "events = events[[\"device_id\", \"app_id\"]]\n",
    "#events.info()\n",
    "# 1Gb reduced to 34 Mb\n",
    "\n",
    "# remove duplicates(app_id)\n",
    "events.loc[:,\"device_id\"].value_counts(ascending=True)\n",
    "\n",
    "events = events.groupby(\"device_id\")[\"app_id\"].apply(\n",
    "    lambda x: \" \".join(set(str(\" \".join(str(s) for s in x)).split(\" \"))))\n",
    "events = events.reset_index(name=\"app_id\")\n",
    "\n",
    "# expand to multiple rows\n",
    "events = pd.concat([pd.Series(row['device_id'], row['app_id'].split(' '))\n",
    "                    for _, row in events.iterrows()]).reset_index()\n",
    "events.columns = ['app_id', 'device_id']\n",
    "#events.head(5)\n",
    "f3 = events[[\"device_id\", \"app_id\"]]    # app_id\n",
    "\n",
    "print(\"#Part1 formed\")\n",
    "\n",
    "##################\n",
    "#   App labels\n",
    "##################\n",
    "\n",
    "print(\"### ----- PART 2 ----- ###\")\n",
    "\n",
    "print(\"# Read App labels\")\n",
    "app_labels = pd.read_csv(os.path.join(datadir,'app_labels.csv'))\n",
    "label_cat = pd.read_csv(os.path.join(datadir,'label_categories.csv'))\n",
    "#app_labels.info()\n",
    "#label_cat.info()\n",
    "label_cat=label_cat[['label_id','category']]\n",
    "\n",
    "app_labels=app_labels.merge(label_cat,on='label_id',how='left')\n",
    "#app_labels.head(3)\n",
    "#events.head(3)\n",
    "#app_labels = app_labels.loc[app_labels.smaller_cat != \"unknown_unknown\"]\n",
    "\n",
    "#app_labels = app_labels.groupby(\"app_id\")[\"category\"].apply(\n",
    "#    lambda x: \";\".join(set(\"app_cat:\" + str(s) for s in x)))\n",
    "app_labels = app_labels.groupby([\"app_id\",\"category\"]).agg('size').reset_index()\n",
    "app_labels = app_labels[['app_id','category']]\n",
    "print(\"# App labels done\")\n",
    "\n",
    "\n",
    "# Remove \"app_id:\" from column\n",
    "print(\"## Handling events data for merging with app lables\")\n",
    "events['app_id'] = events['app_id'].map(lambda x : x.lstrip('app_id:'))\n",
    "events['app_id'] = events['app_id'].astype(str)\n",
    "app_labels['app_id'] = app_labels['app_id'].astype(str)\n",
    "#app_labels.info()\n",
    "\n",
    "print(\"## Merge\")\n",
    "\n",
    "events= pd.merge(events, app_labels, on = 'app_id',how='left').astype(str)\n",
    "#events['smaller_cat'].unique()\n",
    "\n",
    "# expand to multiple rows\n",
    "print(\"#Expand to multiple rows\")\n",
    "#events= pd.concat([pd.Series(row['device_id'], row['category'].split(';'))\n",
    "#                    for _, row in events.iterrows()]).reset_index()\n",
    "#events.columns = ['app_cat', 'device_id']\n",
    "#events.head(5)\n",
    "#print(events.info())\n",
    "\n",
    "events= events.groupby([\"device_id\",\"category\"]).agg('size').reset_index()\n",
    "events= events[['device_id','category']]\n",
    "#events.head(10)\n",
    "print(\"# App labels done\")\n",
    "\n",
    "f5 = events[[\"device_id\", \"category\"]]    # app_id\n",
    "# Can % total share be included as well?\n",
    "print(\"# App category part formed\")\n",
    "\n",
    "##################\n",
    "#   Phone Brand\n",
    "##################\n",
    "print(\"### ----- PART 3 ----- ###\")\n",
    "\n",
    "print(\"# Read Phone Brand\")\n",
    "pbd = pd.read_csv(os.path.join(datadir,'phone_brand_device_model.csv'),\n",
    "                  dtype={'device_id': np.str})\n",
    "pbd.drop_duplicates('device_id', keep='first', inplace=True)\n",
    "\n",
    "##################\n",
    "#  Train and Test\n",
    "##################\n",
    "print(\"# Generate Train and Test\")\n",
    "\n",
    "train = pd.read_csv(os.path.join(datadir,'gender_age_train.csv'),\n",
    "                    dtype={'device_id': np.str})\n",
    "train['dl'] = pd.Series(train.index/len(train.index),index=train.index)\n",
    "                    \n",
    "train.drop([\"age\", \"gender\"], axis=1, inplace=True)\n",
    "train.info()\n",
    "test = pd.read_csv(os.path.join(datadir,'gender_age_test.csv'),\n",
    "                   dtype={'device_id': np.str})\n",
    "test['dl'] = pd.Series(test.index/len(test.index),index=test.index)\n",
    "                   \n",
    "test[\"group\"] = np.nan\n",
    "test.info()\n",
    "split_len = len(train)\n",
    "\n",
    "# Group Labels\n",
    "Y = train[\"group\"]\n",
    "lable_group = LabelEncoder()\n",
    "Y = lable_group.fit_transform(Y)\n",
    "device_id = test[\"device_id\"]\n",
    "\n",
    "# Concat\n",
    "Df = pd.concat((train, test), axis=0, ignore_index=True)\n",
    "\n",
    "print(\"### ----- PART 4 ----- ###\")\n",
    "\n",
    "Df = pd.merge(Df, pbd, how=\"left\", on=\"device_id\")\n",
    "Df[\"phone_brand\"] = Df[\"phone_brand\"].apply(lambda x: \"phone_brand:\" + str(x))\n",
    "Df[\"device_model\"] = Df[\"device_model\"].apply(\n",
    "    lambda x: \"device_model:\" + str(x))\n",
    "\n",
    "\n",
    "###################\n",
    "#  Concat Feature\n",
    "###################\n",
    "\n",
    "print(\"# Concat all features\")\n",
    "\n",
    "f1 = Df[[\"device_id\", \"phone_brand\"]]   # phone_brand\n",
    "f2 = Df[[\"device_id\", \"device_model\"]]  # device_model\n",
    "f6 = Df[[\"device_id\", \"dl\"]]  # \n",
    "\n",
    "events = None\n",
    "Df = None\n",
    "\n",
    "f1.columns.values[1] = \"feature\"\n",
    "f2.columns.values[1] = \"feature\"\n",
    "f5.columns.values[1] = \"feature\"\n",
    "f3.columns.values[1] = \"feature\"\n",
    "f6.columns.values[1] = \"dl\"\n",
    "\n",
    "FLS = pd.concat((f1, f2, f3, f5), axis=0, ignore_index=True)\n",
    "print(FLS.head(10))\n",
    "print(f1.head(10))\n",
    "print(f2.head(10))\n",
    "print(f3.head(10))\n",
    "print(f5.head(10))\n",
    "print(f6.head(10))\n",
    "FLS.info()\n",
    "FLS6 = pd.concat((f1, f2, f3, f5,f6), axis=0, ignore_index=True)\n",
    "FLS6.info()\n",
    "print(FLS6.head(10))\n",
    "###################\n",
    "# User-Item Feature\n",
    "###################\n",
    "print(\"# User-Item-Feature\")\n",
    "\n",
    "device_ids = FLS6[\"device_id\"].unique()\n",
    "feature_cs = FLS[\"feature\"].unique()\n",
    "moo = f6[\"dl\"]\n",
    "\n",
    "data = np.hstack((np.ones(len(FLS)),moo.data)) # numpy ndarray\n",
    "print(len(data))\n",
    "\n",
    "dec = LabelEncoder().fit(FLS6[\"device_id\"])\n",
    "row = dec.transform(FLS6[\"device_id\"])\n",
    "col = np.hstack((LabelEncoder().fit_transform(FLS[\"feature\"])+1,np.ones(len(moo))))\n",
    "sparse_matrix = sparse.csr_matrix(\n",
    "    (data, (row, col)), shape=(len(device_ids), len(feature_cs)+1))\n",
    "print(sparse_matrix.shape)\n",
    "sys.getsizeof(sparse_matrix)\n",
    "\n",
    "sparse_matrix = sparse_matrix[:, sparse_matrix.getnnz(0) > 0]\n",
    "print(\"# Sparse matrix done\")\n",
    "\n",
    "del FLS\n",
    "del data\n",
    "f1 = [1]\n",
    "f5 = [1]\n",
    "f2 = [1]\n",
    "f3 = [1]\n",
    "\n",
    "events = [1]\n",
    "\n",
    "##################\n",
    "#      Data\n",
    "##################\n",
    "\n",
    "print(\"# Split data\")\n",
    "train_row = dec.transform(train[\"device_id\"])\n",
    "train_sp = sparse_matrix[train_row, :]\n",
    "\n",
    "test_row = dec.transform(test[\"device_id\"])\n",
    "test_sp = sparse_matrix[test_row, :]\n",
    "\n",
    "X_train, X_val, y_train, y_val = train_test_split(\n",
    "    train_sp, Y, train_size=0.999, random_state=10)\n",
    "\n",
    "##################\n",
    "#   Feature Sel\n",
    "##################\n",
    "print(\"# Feature Selection\")\n",
    "#selector = SelectPercentile(f_classif, percentile=53)\n",
    "\n",
    "#selector.fit(X_train, y_train)\n",
    "#X_train.shape\n",
    "#X_train = selector.transform(X_train)\n",
    "#X_train.shape\n",
    "#X_val = selector.transform(X_val)\n",
    "#X_val.shape\n",
    "\n",
    "# Selection using chi-square\n",
    "# selector = SelectKBest(chi2, k=11155).fit(X_train, y_train)\n",
    "# X_train.shape\n",
    "# X_train = selector.transform(X_train)\n",
    "# X_train.shape\n",
    "# X_val = selector.transform(X_val)\n",
    "# X_val.shape\n",
    "\n",
    "print(\"# Num of Features: \", X_train.shape[1])\n",
    "\n",
    "##################\n",
    "#  Build Model\n",
    "##################\n",
    "\n",
    "\n",
    "#act = keras.layers.advanced_activations.PReLU(init='zero', weights=None)\n",
    "\n",
    "def baseline_model():\n",
    "    # create model\n",
    "    model = Sequential()\n",
    "    model.add(Dense(150, input_dim=X_train.shape[1], init='normal'))\n",
    "    model.add(PReLU())\n",
    "    model.add(Dropout(0.4))\n",
    "    model.add(Dense(50, input_dim=X_train.shape[1], init='normal'))\n",
    "    model.add(PReLU())\n",
    "    model.add(Dropout(0.2))\n",
    "    model.add(Dense(12, init='normal', activation='softmax'))\n",
    "    # Compile model\n",
    "    model.compile(loss='sparse_categorical_crossentropy', optimizer='adadelta', metrics=['accuracy'])  #logloss\n",
    "    return model\n",
    "\n",
    "model=baseline_model()\n",
    "\n",
    "fit= model.fit_generator(generator=batch_generator(X_train, y_train, 400, True),\n",
    "                         nb_epoch=16,\n",
    "                         samples_per_epoch=69984,\n",
    "                         validation_data=(X_val.todense(), y_val), verbose=2\n",
    "                         )\n",
    "\n",
    "# evaluate the model\n",
    "scores_val = model.predict_generator(generator=batch_generatorp(X_val, 400, False), val_samples=X_val.shape[0])\n",
    "print('logloss val {}'.format(log_loss(y_val, scores_val)))\n",
    "\n",
    "print(\"# Final prediction\")\n",
    "scores = model.predict_generator(generator=batch_generatorp(test_sp, 800, False), val_samples=test_sp.shape[0])\n",
    "result = pd.DataFrame(scores , columns=lable_group.classes_)\n",
    "result[\"device_id\"] = device_id\n",
    "print(result.head(1))\n",
    "result = result.set_index(\"device_id\")\n",
    "\n",
    "#result.to_csv('./sub_bagofapps7_keras_10_50_pt2_10epoch.csv', index=True, index_label='device_id')\n",
    "#Drop out 0.2\n",
    "#Validation 2.3017\n",
    "result.to_csv('sub_bagofapps7_keras_150_pt4_50_pt2_15epoch_prelu_softmax.csv', index=True, index_label='device_id')\n",
    "\n",
    "\n",
    "print(\"Done\")"
   ]
  },
  {
   "cell_type": "code",
   "execution_count": null,
   "metadata": {},
   "outputs": [],
   "source": []
  }
 ],
 "metadata": {
  "_change_revision": 104,
  "_is_fork": false,
  "colab": {
   "collapsed_sections": [],
   "name": "CS1_EDA_V1.ipynb",
   "provenance": []
  },
  "kernelspec": {
   "display_name": "Python 3 (ipykernel)",
   "language": "python",
   "name": "python3"
  },
  "language_info": {
   "codemirror_mode": {
    "name": "ipython",
    "version": 3
   },
   "file_extension": ".py",
   "mimetype": "text/x-python",
   "name": "python",
   "nbconvert_exporter": "python",
   "pygments_lexer": "ipython3",
   "version": "3.7.11"
  }
 },
 "nbformat": 4,
 "nbformat_minor": 1
}
